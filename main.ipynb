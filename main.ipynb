{
 "cells": [
  {
   "cell_type": "code",
   "execution_count": 1,
   "metadata": {},
   "outputs": [
    {
     "name": "stderr",
     "output_type": "stream",
     "text": [
      "┌ Info: Recompiling stale cache file /Users/dan/.julia/compiled/v1.1/Checkmate/9c7BV.ji for Checkmate [37d1f408-8ee4-11e9-2204-5fbade4d0fa8]\n",
      "└ @ Base loading.jl:1184\n"
     ]
    },
    {
     "data": {
      "text/html": [
       "<script>\n",
       "// Immediately-invoked-function-expression to avoid global variables.\n",
       "(function() {\n",
       "    var warning_div = document.getElementById(\"webio-warning-13646269567697754826\");\n",
       "    var hide = function () {\n",
       "        var script = document.getElementById(\"webio-setup-11113272967056537877\");\n",
       "        var parent = script && script.parentElement;\n",
       "        var grandparent = parent && parent.parentElement;\n",
       "        if (grandparent) {\n",
       "            grandparent.style.display = \"none\";\n",
       "        }\n",
       "        warning_div.style.display = \"none\";\n",
       "    };\n",
       "    if (typeof Jupyter !== \"undefined\") {\n",
       "        console.log(\"WebIO detected Jupyter notebook environment.\");\n",
       "        // Jupyter notebook.\n",
       "        var extensions = (\n",
       "            Jupyter\n",
       "            && Jupyter.notebook.config.data\n",
       "            && Jupyter.notebook.config.data.load_extensions\n",
       "        );\n",
       "        if (extensions && extensions[\"webio/main\"]) {\n",
       "            // Extension already loaded.\n",
       "            console.log(\"Jupyter WebIO nbextension detected; not loading ad-hoc.\");\n",
       "            hide();\n",
       "            return;\n",
       "        }\n",
       "        console.warn(\"Loading WebIO Jupyter extension on an ad-hoc basis. Consider enabling the WebIO nbextension for a stabler experience (this should happen automatically when building WebIO).\");\n",
       "        require([\"/assetserver/199e08744e5980975fe7eef03199f336669fbf6e-dist/main.js\"], function (webIOModule) {\n",
       "            webIOModule.load_ipython_extension();\n",
       "        });\n",
       "        warning_div.innerHTML = \"<strong>Loading WebIO Jupyter extension on an ad-hoc basis. Consider enabling the WebIO nbextension for a stabler experience (this should happen automatically when building WebIO).</strong>\";\n",
       "    } else if (window.location.pathname.includes(\"/lab\")) {\n",
       "        // Guessing JupyterLa\n",
       "        console.log(\"Jupyter Lab detected; make sure the @webio/jupyter-lab-provider labextension is installed.\");\n",
       "        hide();\n",
       "        return;\n",
       "    }\n",
       "})();\n",
       "\n",
       "</script>\n",
       "<div\n",
       "    id=\"webio-warning-13646269567697754826\"\n",
       "    class=\"output_text output_stderr\"\n",
       "    style=\"padding: 1em; font-weight: bold;\"\n",
       ">\n",
       "    Unable to load WebIO. Please make sure WebIO works for your Jupyter client.\n",
       "    <!-- TODO: link to installation docs. -->\n",
       "</div>\n"
      ],
      "text/plain": [
       "HTML{String}(\"<script>\\n// Immediately-invoked-function-expression to avoid global variables.\\n(function() {\\n    var warning_div = document.getElementById(\\\"webio-warning-13646269567697754826\\\");\\n    var hide = function () {\\n        var script = document.getElementById(\\\"webio-setup-11113272967056537877\\\");\\n        var parent = script && script.parentElement;\\n        var grandparent = parent && parent.parentElement;\\n        if (grandparent) {\\n            grandparent.style.display = \\\"none\\\";\\n        }\\n        warning_div.style.display = \\\"none\\\";\\n    };\\n    if (typeof Jupyter !== \\\"undefined\\\") {\\n        console.log(\\\"WebIO detected Jupyter notebook environment.\\\");\\n        // Jupyter notebook.\\n        var extensions = (\\n            Jupyter\\n            && Jupyter.notebook.config.data\\n            && Jupyter.notebook.config.data.load_extensions\\n        );\\n        if (extensions && extensions[\\\"webio/main\\\"]) {\\n            // Extension already loaded.\\n            console.log(\\\"Jupyter WebIO nbextension detected; not loading ad-hoc.\\\");\\n            hide();\\n            return;\\n        }\\n        console.warn(\\\"Loading WebIO Jupyter extension on an ad-hoc basis. Consider enabling the WebIO nbextension for a stabler experience (this should happen automatically when building WebIO).\\\");\\n        require([\\\"/assetserver/199e08744e5980975fe7eef03199f336669fbf6e-dist/main.js\\\"], function (webIOModule) {\\n            webIOModule.load_ipython_extension();\\n        });\\n        warning_div.innerHTML = \\\"<strong>Loading WebIO Jupyter extension on an ad-hoc basis. Consider enabling the WebIO nbextension for a stabler experience (this should happen automatically when building WebIO).</strong>\\\";\\n    } else if (window.location.pathname.includes(\\\"/lab\\\")) {\\n        // Guessing JupyterLa\\n        console.log(\\\"Jupyter Lab detected; make sure the @webio/jupyter-lab-provider labextension is installed.\\\");\\n        hide();\\n        return;\\n    }\\n})();\\n\\n</script>\\n<div\\n    id=\\\"webio-warning-13646269567697754826\\\"\\n    class=\\\"output_text output_stderr\\\"\\n    style=\\\"padding: 1em; font-weight: bold;\\\"\\n>\\n    Unable to load WebIO. Please make sure WebIO works for your Jupyter client.\\n    <!-- TODO: link to installation docs. -->\\n</div>\\n\")"
      ]
     },
     "metadata": {},
     "output_type": "display_data"
    }
   ],
   "source": [
    "using Checkmate"
   ]
  },
  {
   "cell_type": "code",
   "execution_count": 29,
   "metadata": {},
   "outputs": [
    {
     "name": "stderr",
     "output_type": "stream",
     "text": [
      "\u001b[91mBoundsError: attempt to access 8×8 Array{Union{Nothing, Piece},2} at index [9, 1]\u001b[39m\n",
      "Stacktrace:\n",
      " [1] \u001b[1mgetindex\u001b[22m\u001b[1m(\u001b[22m::Array{Union{Nothing, Piece},2}, ::Int64, ::Int64\u001b[1m)\u001b[22m at \u001b[1m./array.jl:730\u001b[22m\n",
      " [2] \u001b[1mvalid_moves\u001b[22m\u001b[1m(\u001b[22m::Checkmate.Pawn\u001b[1m)\u001b[22m at \u001b[1m/Users/dan/code/Checkmate/src/Checkmate.jl:25\u001b[22m\n",
      " [3] \u001b[1m(::getfield(Checkmate, Symbol(\"##65#70\")){Blink.AtomShell.Window,Checkmate.Game})\u001b[22m\u001b[1m(\u001b[22m::Array{Any,1}\u001b[1m)\u001b[22m at \u001b[1m/Users/dan/code/Checkmate/src/Checkmate.jl:196\u001b[22m\n",
      " [4] \u001b[1m#invokelatest#1\u001b[22m at \u001b[1m./essentials.jl:742\u001b[22m [inlined]\n",
      " [5] \u001b[1minvokelatest\u001b[22m at \u001b[1m./essentials.jl:741\u001b[22m [inlined]\n",
      " [6] \u001b[1mhandle_message\u001b[22m\u001b[1m(\u001b[22m::Blink.Page, ::Dict{String,Any}\u001b[1m)\u001b[22m at \u001b[1m/Users/dan/.julia/packages/Blink/1QOOi/src/rpc/callbacks.jl:7\u001b[22m\n",
      " [7] \u001b[1mmacro expansion\u001b[22m at \u001b[1m/Users/dan/.julia/packages/Lazy/ZAeCx/src/macros.jl:256\u001b[22m [inlined]\n",
      " [8] \u001b[1mws_handler\u001b[22m\u001b[1m(\u001b[22m::Dict{Any,Any}\u001b[1m)\u001b[22m at \u001b[1m/Users/dan/.julia/packages/Blink/1QOOi/src/content/server.jl:56\u001b[22m\n",
      " [9] \u001b[1msplitquery\u001b[22m\u001b[1m(\u001b[22m::typeof(Blink.ws_handler), ::Dict{Any,Any}\u001b[1m)\u001b[22m at \u001b[1m/Users/dan/.julia/packages/Mux/FeATY/src/basics.jl:34\u001b[22m\n",
      " [10] \u001b[1m#1\u001b[22m at \u001b[1m/Users/dan/.julia/packages/Mux/FeATY/src/Mux.jl:10\u001b[22m [inlined]\n",
      " [11] \u001b[1mwcatch\u001b[22m\u001b[1m(\u001b[22m::getfield(Mux, Symbol(\"##1#2\")){typeof(Mux.splitquery),typeof(Blink.ws_handler)}, ::Dict{Any,Any}\u001b[1m)\u001b[22m at \u001b[1m/Users/dan/.julia/packages/Mux/FeATY/src/websockets_integration.jl:12\u001b[22m\n",
      " [12] \u001b[1m#1\u001b[22m at \u001b[1m/Users/dan/.julia/packages/Mux/FeATY/src/Mux.jl:10\u001b[22m [inlined]\n",
      " [13] \u001b[1mtodict\u001b[22m at \u001b[1m/Users/dan/.julia/packages/Mux/FeATY/src/basics.jl:25\u001b[22m [inlined]\n",
      " [14] \u001b[1m#3\u001b[22m at \u001b[1m/Users/dan/.julia/packages/Mux/FeATY/src/Mux.jl:14\u001b[22m [inlined] (repeats 2 times)\n",
      " [15] \u001b[1m(::getfield(Mux, Symbol(\"##1#2\")){getfield(Mux, Symbol(\"##3#4\")){getfield(Mux, Symbol(\"##3#4\")){typeof(Mux.todict),typeof(Mux.wcatch)},typeof(Mux.splitquery)},typeof(Blink.ws_handler)})\u001b[22m\u001b[1m(\u001b[22m::Tuple{HTTP.Messages.Request,WebSockets.WebSocket{Sockets.TCPSocket}}\u001b[1m)\u001b[22m at \u001b[1m/Users/dan/.julia/packages/Mux/FeATY/src/Mux.jl:10\u001b[22m\n",
      " [16] \u001b[1m(::getfield(Mux, Symbol(\"##9#10\")){Mux.App})\u001b[22m\u001b[1m(\u001b[22m::HTTP.Messages.Request, ::WebSockets.WebSocket{Sockets.TCPSocket}\u001b[1m)\u001b[22m at \u001b[1m/Users/dan/.julia/packages/Mux/FeATY/src/server.jl:49\u001b[22m\n",
      " [17] \u001b[1mupgrade\u001b[22m\u001b[1m(\u001b[22m::getfield(Mux, Symbol(\"##9#10\")){Mux.App}, ::HTTP.Streams.Stream{HTTP.Messages.Request,HTTP.ConnectionPool.Transaction{Sockets.TCPSocket}}\u001b[1m)\u001b[22m at \u001b[1m/Users/dan/.julia/packages/WebSockets/pc4iW/src/HTTP.jl:201\u001b[22m\n",
      " [18] \u001b[1m(::getfield(WebSockets, Symbol(\"#_servercoroutine#11\")){WebSockets.ServerWS})\u001b[22m\u001b[1m(\u001b[22m::HTTP.Streams.Stream{HTTP.Messages.Request,HTTP.ConnectionPool.Transaction{Sockets.TCPSocket}}\u001b[1m)\u001b[22m at \u001b[1m/Users/dan/.julia/packages/WebSockets/pc4iW/src/HTTP.jl:370\u001b[22m\n",
      " [19] \u001b[1mmacro expansion\u001b[22m at \u001b[1m/Users/dan/.julia/packages/HTTP/wY7Vc/src/Servers.jl:360\u001b[22m [inlined]\n",
      " [20] \u001b[1m(::getfield(HTTP.Servers, Symbol(\"##13#14\")){getfield(WebSockets, Symbol(\"#_servercoroutine#11\")){WebSockets.ServerWS},HTTP.ConnectionPool.Transaction{Sockets.TCPSocket},HTTP.Streams.Stream{HTTP.Messages.Request,HTTP.ConnectionPool.Transaction{Sockets.TCPSocket}}})\u001b[22m\u001b[1m(\u001b[22m\u001b[1m)\u001b[22m at \u001b[1m./task.jl:259\u001b[22m\n"
     ]
    }
   ],
   "source": [
    "game = start();"
   ]
  },
  {
   "cell_type": "code",
   "execution_count": 33,
   "metadata": {},
   "outputs": [
    {
     "data": {
      "text/plain": [
       "2-element Array{Int64,1}:\n",
       " 16\n",
       "  0"
      ]
     },
     "execution_count": 33,
     "metadata": {},
     "output_type": "execute_result"
    }
   ],
   "source": [
    "map(pp -> length(pp.pieces), game.players)"
   ]
  },
  {
   "cell_type": "code",
   "execution_count": null,
   "metadata": {},
   "outputs": [],
   "source": []
  }
 ],
 "metadata": {
  "@webio": {
   "lastCommId": null,
   "lastKernelId": null
  },
  "kernelspec": {
   "display_name": "Julia 1.1.1",
   "language": "julia",
   "name": "julia-1.1"
  },
  "language_info": {
   "file_extension": ".jl",
   "mimetype": "application/julia",
   "name": "julia",
   "version": "1.1.1"
  }
 },
 "nbformat": 4,
 "nbformat_minor": 2
}
