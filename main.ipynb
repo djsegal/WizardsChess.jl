{
 "cells": [
  {
   "cell_type": "code",
   "execution_count": 3,
   "metadata": {},
   "outputs": [
    {
     "name": "stderr",
     "output_type": "stream",
     "text": [
      "┌ Info: Precompiling WizardsChess [37d1f408-8ee4-11e9-2204-5fbade4d0fa8]\n",
      "└ @ Base loading.jl:1186\n"
     ]
    },
    {
     "data": {
      "text/html": [
       "<script>\n",
       "// Immediately-invoked-function-expression to avoid global variables.\n",
       "(function() {\n",
       "    var warning_div = document.getElementById(\"webio-warning-10853905293007863250\");\n",
       "    var hide = function () {\n",
       "        var script = document.getElementById(\"webio-setup-15450660829985644669\");\n",
       "        var parent = script && script.parentElement;\n",
       "        var grandparent = parent && parent.parentElement;\n",
       "        if (grandparent) {\n",
       "            grandparent.style.display = \"none\";\n",
       "        }\n",
       "        warning_div.style.display = \"none\";\n",
       "    };\n",
       "    if (typeof Jupyter !== \"undefined\") {\n",
       "        console.log(\"WebIO detected Jupyter notebook environment.\");\n",
       "        // Jupyter notebook.\n",
       "        var extensions = (\n",
       "            Jupyter\n",
       "            && Jupyter.notebook.config.data\n",
       "            && Jupyter.notebook.config.data.load_extensions\n",
       "        );\n",
       "        if (extensions && extensions[\"webio/main\"]) {\n",
       "            // Extension already loaded.\n",
       "            console.log(\"Jupyter WebIO nbextension detected; not loading ad-hoc.\");\n",
       "            hide();\n",
       "            return;\n",
       "        }\n",
       "        console.warn(\"Loading WebIO Jupyter extension on an ad-hoc basis. Consider enabling the WebIO nbextension for a stabler experience (this should happen automatically when building WebIO).\");\n",
       "        require([\"/assetserver/199e08744e5980975fe7eef03199f336669fbf6e-dist/main.js\"], function (webIOModule) {\n",
       "            webIOModule.load_ipython_extension();\n",
       "        });\n",
       "        warning_div.innerHTML = \"<strong>Loading WebIO Jupyter extension on an ad-hoc basis. Consider enabling the WebIO nbextension for a stabler experience (this should happen automatically when building WebIO).</strong>\";\n",
       "    } else if (window.location.pathname.includes(\"/lab\")) {\n",
       "        // Guessing JupyterLa\n",
       "        console.log(\"Jupyter Lab detected; make sure the @webio/jupyter-lab-provider labextension is installed.\");\n",
       "        hide();\n",
       "        return;\n",
       "    }\n",
       "})();\n",
       "\n",
       "</script>\n",
       "<div\n",
       "    id=\"webio-warning-10853905293007863250\"\n",
       "    class=\"output_text output_stderr\"\n",
       "    style=\"padding: 1em; font-weight: bold;\"\n",
       ">\n",
       "    Unable to load WebIO. Please make sure WebIO works for your Jupyter client.\n",
       "    <!-- TODO: link to installation docs. -->\n",
       "</div>\n"
      ],
      "text/plain": [
       "HTML{String}(\"<script>\\n// Immediately-invoked-function-expression to avoid global variables.\\n(function() {\\n    var warning_div = document.getElementById(\\\"webio-warning-10853905293007863250\\\");\\n    var hide = function () {\\n        var script = document.getElementById(\\\"webio-setup-15450660829985644669\\\");\\n        var parent = script && script.parentElement;\\n        var grandparent = parent && parent.parentElement;\\n        if (grandparent) {\\n            grandparent.style.display = \\\"none\\\";\\n        }\\n        warning_div.style.display = \\\"none\\\";\\n    };\\n    if (typeof Jupyter !== \\\"undefined\\\") {\\n        console.log(\\\"WebIO detected Jupyter notebook environment.\\\");\\n        // Jupyter notebook.\\n        var extensions = (\\n            Jupyter\\n            && Jupyter.notebook.config.data\\n            && Jupyter.notebook.config.data.load_extensions\\n        );\\n        if (extensions && extensions[\\\"webio/main\\\"]) {\\n            // Extension already loaded.\\n            console.log(\\\"Jupyter WebIO nbextension detected; not loading ad-hoc.\\\");\\n            hide();\\n            return;\\n        }\\n        console.warn(\\\"Loading WebIO Jupyter extension on an ad-hoc basis. Consider enabling the WebIO nbextension for a stabler experience (this should happen automatically when building WebIO).\\\");\\n        require([\\\"/assetserver/199e08744e5980975fe7eef03199f336669fbf6e-dist/main.js\\\"], function (webIOModule) {\\n            webIOModule.load_ipython_extension();\\n        });\\n        warning_div.innerHTML = \\\"<strong>Loading WebIO Jupyter extension on an ad-hoc basis. Consider enabling the WebIO nbextension for a stabler experience (this should happen automatically when building WebIO).</strong>\\\";\\n    } else if (window.location.pathname.includes(\\\"/lab\\\")) {\\n        // Guessing JupyterLa\\n        console.log(\\\"Jupyter Lab detected; make sure the @webio/jupyter-lab-provider labextension is installed.\\\");\\n        hide();\\n        return;\\n    }\\n})();\\n\\n</script>\\n<div\\n    id=\\\"webio-warning-10853905293007863250\\\"\\n    class=\\\"output_text output_stderr\\\"\\n    style=\\\"padding: 1em; font-weight: bold;\\\"\\n>\\n    Unable to load WebIO. Please make sure WebIO works for your Jupyter client.\\n    <!-- TODO: link to installation docs. -->\\n</div>\\n\")"
      ]
     },
     "metadata": {},
     "output_type": "display_data"
    }
   ],
   "source": [
    "using WizardsChess"
   ]
  },
  {
   "cell_type": "code",
   "execution_count": 10,
   "metadata": {},
   "outputs": [
    {
     "name": "stdout",
     "output_type": "stream",
     "text": [
      "rnbqkbnr/pppppppp/8/8/8/8/PPPPPPPP/RNBQKBNR w KQkq - 0 1\n",
      "rnbqkbnr/pppppppp/8/8/4P3/8/PPPP1PPP/RNBQKBNR b KQkq e3 0 1\n",
      "rnbqkbnr/pppppppp/8/4P3/8/8/PPPP1PPP/RNBQKBNR b KQkq - 0 1\n",
      "rnbqkbnr/ppppp1pp/8/4Pp2/8/8/PPPP1PPP/RNBQKBNR w KQkq f6 0 2\n",
      "captured_pawn_name = \"pawn\"\n",
      "rnbqkbnr/ppppp1pp/5P2/8/8/8/PPPP1PPP/RNBQKBNR b KQkq - 0 2\n",
      "rnbqkbnr/pppppPpp/8/8/8/8/PPPP1PPP/RNBQKBNR b KQkq - 0 2\n",
      "rnbqPbnr/ppppp1pp/8/8/8/8/PPPP1PPP/RNBQKBNR b KQkq - 0 2\n",
      "rnbq1bnr/ppppQ1pp/8/8/8/8/PPPP1PPP/RNBQKBNR b KQkq - 0 2\n",
      "rnbQ1bnr/pppp2pp/8/8/8/8/PPPP1PPP/RNBQKBNR b KQkq - 0 2\n",
      "rnb2bnr/pppQ2pp/8/8/8/8/PPPP1PPP/RNBQKBNR b KQkq - 0 2\n",
      "rnb2bnr/ppQ3pp/8/8/8/8/PPPP1PPP/RNBQKBNR b KQkq - 0 2\n",
      "rnQ2bnr/pp4pp/8/8/8/8/PPPP1PPP/RNBQKBNR b KQkq - 0 2\n",
      "rn3bnr/pQ4pp/8/8/8/8/PPPP1PPP/RNBQKBNR b KQkq - 0 2\n",
      "rQ3bnr/p5pp/8/8/8/8/PPPP1PPP/RNBQKBNR b KQkq - 0 2\n",
      "r4bnr/Q5pp/8/8/8/8/PPPP1PPP/RNBQKBNR b KQkq - 0 2\n",
      "Q4bnr/6pp/8/8/8/8/PPPP1PPP/RNBQKBNR b KQkq - 0 2\n",
      "5Qnr/6pp/8/8/8/8/PPPP1PPP/RNBQKBNR b KQkq - 0 2\n",
      "6nr/6Qp/8/8/8/8/PPPP1PPP/RNBQKBNR b KQkq - 0 2\n",
      "6Qr/7p/8/8/8/8/PPPP1PPP/RNBQKBNR b KQkq - 0 2\n",
      "7Q/7p/8/8/8/8/PPPP1PPP/RNBQKBNR b KQkq - 0 2\n",
      "8/7Q/8/8/8/8/PPPP1PPP/RNBQKBNR b KQkq - 0 2\n",
      "rnbqkbnr/ppp1pppp/8/3p4/8/8/PPPPPPPP/RNBQKBNR w KQkq d6 0 2\n",
      "rnbqkbnr/ppp1pppp/8/3p4/4P3/8/PPPP1PPP/RNBQKBNR b KQkq e3 0 2\n",
      "rnbqkbnr/ppp1pppp/8/8/3pP3/8/PPPP1PPP/RNBQKBNR w KQkq - 0 3\n",
      "rnbqkbnr/ppp1pppp/8/8/2PpP3/8/PP1P1PPP/RNBQKBNR b KQkq c3 0 3\n",
      "rnbqkbnr/ppp1pppp/8/8/2P1P3/2p5/PP1P1PPP/RNBQKBNR w KQkq - 0 4\n",
      "rnbqkbnr/ppp1pppp/8/8/2P1P3/8/PP1p1PPP/RNBQKBNR w KQkq - 0 5\n",
      "rnbqkbnr/ppp1pppp/8/8/2P1P3/8/PP3PPP/RNpQKBNR w KQkq - 0 6\n",
      "rnbqkbnr/ppp1pppp/8/8/2P1P3/8/PP3PPP/RN1rKBNR w KQkq - 0 7\n",
      "rnbqkbnr/ppp1pppp/8/8/2P1P3/8/PP3PPP/RN2rBNR w KQkq - 0 8\n",
      "rnbqkbnr/ppp1pppp/8/8/2P1r3/8/PP3PPP/RN3BNR w KQkq - 0 9\n",
      "rnbqkbnr/ppp1pppp/8/8/2r5/8/PP3PPP/RN3BNR w KQkq - 0 10\n",
      "rnbqkbnr/pp2pppp/8/2p5/2r5/8/PP3PPP/RN3BNR w KQkq c6 0 11\n",
      "rnbqkbnr/pp2pppp/8/2p5/1Pr5/8/P4PPP/RN3BNR b KQkq b3 0 11\n"
     ]
    },
    {
     "name": "stderr",
     "output_type": "stream",
     "text": [
      "\u001b[91mMethodError: no method matching valid_moves(::Nothing)\u001b[39m\n",
      "\u001b[91m\u001b[0mClosest candidates are:\u001b[39m\n",
      "\u001b[91m\u001b[0m  valid_moves(\u001b[91m::WizardsChess.Pawn\u001b[39m) at /Users/dan/code/WizardsChess/src/valid_moves.jl:8\u001b[39m\n",
      "\u001b[91m\u001b[0m  valid_moves(\u001b[91m::WizardsChess.King\u001b[39m) at /Users/dan/code/WizardsChess/src/valid_moves.jl:114\u001b[39m\n",
      "\u001b[91m\u001b[0m  valid_moves(\u001b[91m::WizardsChess.Rook\u001b[39m) at /Users/dan/code/WizardsChess/src/valid_moves.jl:81\u001b[39m\n",
      "\u001b[91m\u001b[0m  ...\u001b[39m\n",
      "Stacktrace:\n",
      " [1] \u001b[1m(::getfield(WizardsChess, Symbol(\"##163#178\")){Blink.AtomShell.Window})\u001b[22m\u001b[1m(\u001b[22m::Array{Any,1}\u001b[1m)\u001b[22m at \u001b[1m/Users/dan/code/WizardsChess/src/WizardsChess.jl:122\u001b[22m\n",
      " [2] \u001b[1m#invokelatest#1\u001b[22m at \u001b[1m./essentials.jl:742\u001b[22m [inlined]\n",
      " [3] \u001b[1minvokelatest\u001b[22m at \u001b[1m./essentials.jl:741\u001b[22m [inlined]\n",
      " [4] \u001b[1mhandle_message\u001b[22m\u001b[1m(\u001b[22m::Blink.Page, ::Dict{String,Any}\u001b[1m)\u001b[22m at \u001b[1m/Users/dan/.julia/packages/Blink/1QOOi/src/rpc/callbacks.jl:7\u001b[22m\n",
      " [5] \u001b[1mmacro expansion\u001b[22m at \u001b[1m/Users/dan/.julia/packages/Lazy/ZAeCx/src/macros.jl:256\u001b[22m [inlined]\n",
      " [6] \u001b[1mws_handler\u001b[22m\u001b[1m(\u001b[22m::Dict{Any,Any}\u001b[1m)\u001b[22m at \u001b[1m/Users/dan/.julia/packages/Blink/1QOOi/src/content/server.jl:56\u001b[22m\n",
      " [7] \u001b[1msplitquery\u001b[22m\u001b[1m(\u001b[22m::typeof(Blink.ws_handler), ::Dict{Any,Any}\u001b[1m)\u001b[22m at \u001b[1m/Users/dan/.julia/packages/Mux/FeATY/src/basics.jl:34\u001b[22m\n",
      " [8] \u001b[1m#1\u001b[22m at \u001b[1m/Users/dan/.julia/packages/Mux/FeATY/src/Mux.jl:10\u001b[22m [inlined]\n",
      " [9] \u001b[1mwcatch\u001b[22m\u001b[1m(\u001b[22m::getfield(Mux, Symbol(\"##1#2\")){typeof(Mux.splitquery),typeof(Blink.ws_handler)}, ::Dict{Any,Any}\u001b[1m)\u001b[22m at \u001b[1m/Users/dan/.julia/packages/Mux/FeATY/src/websockets_integration.jl:12\u001b[22m\n",
      " [10] \u001b[1m#1\u001b[22m at \u001b[1m/Users/dan/.julia/packages/Mux/FeATY/src/Mux.jl:10\u001b[22m [inlined]\n",
      " [11] \u001b[1mtodict\u001b[22m at \u001b[1m/Users/dan/.julia/packages/Mux/FeATY/src/basics.jl:25\u001b[22m [inlined]\n",
      " [12] \u001b[1m#3\u001b[22m at \u001b[1m/Users/dan/.julia/packages/Mux/FeATY/src/Mux.jl:14\u001b[22m [inlined] (repeats 2 times)\n",
      " [13] \u001b[1m(::getfield(Mux, Symbol(\"##1#2\")){getfield(Mux, Symbol(\"##3#4\")){getfield(Mux, Symbol(\"##3#4\")){typeof(Mux.todict),typeof(Mux.wcatch)},typeof(Mux.splitquery)},typeof(Blink.ws_handler)})\u001b[22m\u001b[1m(\u001b[22m::Tuple{HTTP.Messages.Request,WebSockets.WebSocket{Sockets.TCPSocket}}\u001b[1m)\u001b[22m at \u001b[1m/Users/dan/.julia/packages/Mux/FeATY/src/Mux.jl:10\u001b[22m\n",
      " [14] \u001b[1m(::getfield(Mux, Symbol(\"##9#10\")){Mux.App})\u001b[22m\u001b[1m(\u001b[22m::HTTP.Messages.Request, ::WebSockets.WebSocket{Sockets.TCPSocket}\u001b[1m)\u001b[22m at \u001b[1m/Users/dan/.julia/packages/Mux/FeATY/src/server.jl:49\u001b[22m\n",
      " [15] \u001b[1mupgrade\u001b[22m\u001b[1m(\u001b[22m::getfield(Mux, Symbol(\"##9#10\")){Mux.App}, ::HTTP.Streams.Stream{HTTP.Messages.Request,HTTP.ConnectionPool.Transaction{Sockets.TCPSocket}}\u001b[1m)\u001b[22m at \u001b[1m/Users/dan/.julia/packages/WebSockets/pc4iW/src/HTTP.jl:201\u001b[22m\n",
      " [16] \u001b[1m(::getfield(WebSockets, Symbol(\"#_servercoroutine#11\")){WebSockets.ServerWS})\u001b[22m\u001b[1m(\u001b[22m::HTTP.Streams.Stream{HTTP.Messages.Request,HTTP.ConnectionPool.Transaction{Sockets.TCPSocket}}\u001b[1m)\u001b[22m at \u001b[1m/Users/dan/.julia/packages/WebSockets/pc4iW/src/HTTP.jl:370\u001b[22m\n",
      " [17] \u001b[1mmacro expansion\u001b[22m at \u001b[1m/Users/dan/.julia/packages/HTTP/wY7Vc/src/Servers.jl:360\u001b[22m [inlined]\n",
      " [18] \u001b[1m(::getfield(HTTP.Servers, Symbol(\"##13#14\")){getfield(WebSockets, Symbol(\"#_servercoroutine#11\")){WebSockets.ServerWS},HTTP.ConnectionPool.Transaction{Sockets.TCPSocket},HTTP.Streams.Stream{HTTP.Messages.Request,HTTP.ConnectionPool.Transaction{Sockets.TCPSocket}}})\u001b[22m\u001b[1m(\u001b[22m\u001b[1m)\u001b[22m at \u001b[1m./task.jl:259\u001b[22m\n",
      "\u001b[91mMethodError: no method matching valid_moves(::Nothing)\u001b[39m\n",
      "\u001b[91m\u001b[0mClosest candidates are:\u001b[39m\n",
      "\u001b[91m\u001b[0m  valid_moves(\u001b[91m::WizardsChess.Pawn\u001b[39m) at /Users/dan/code/WizardsChess/src/valid_moves.jl:8\u001b[39m\n",
      "\u001b[91m\u001b[0m  valid_moves(\u001b[91m::WizardsChess.King\u001b[39m) at /Users/dan/code/WizardsChess/src/valid_moves.jl:114\u001b[39m\n",
      "\u001b[91m\u001b[0m  valid_moves(\u001b[91m::WizardsChess.Rook\u001b[39m) at /Users/dan/code/WizardsChess/src/valid_moves.jl:81\u001b[39m\n",
      "\u001b[91m\u001b[0m  ...\u001b[39m\n",
      "Stacktrace:\n",
      " [1] \u001b[1m(::getfield(WizardsChess, Symbol(\"##163#178\")){Blink.AtomShell.Window})\u001b[22m\u001b[1m(\u001b[22m::Array{Any,1}\u001b[1m)\u001b[22m at \u001b[1m/Users/dan/code/WizardsChess/src/WizardsChess.jl:122\u001b[22m\n",
      " [2] \u001b[1m#invokelatest#1\u001b[22m at \u001b[1m./essentials.jl:742\u001b[22m [inlined]\n",
      " [3] \u001b[1minvokelatest\u001b[22m at \u001b[1m./essentials.jl:741\u001b[22m [inlined]\n",
      " [4] \u001b[1mhandle_message\u001b[22m\u001b[1m(\u001b[22m::Blink.Page, ::Dict{String,Any}\u001b[1m)\u001b[22m at \u001b[1m/Users/dan/.julia/packages/Blink/1QOOi/src/rpc/callbacks.jl:7\u001b[22m\n",
      " [5] \u001b[1mmacro expansion\u001b[22m at \u001b[1m/Users/dan/.julia/packages/Lazy/ZAeCx/src/macros.jl:256\u001b[22m [inlined]\n",
      " [6] \u001b[1mws_handler\u001b[22m\u001b[1m(\u001b[22m::Dict{Any,Any}\u001b[1m)\u001b[22m at \u001b[1m/Users/dan/.julia/packages/Blink/1QOOi/src/content/server.jl:56\u001b[22m\n",
      " [7] \u001b[1msplitquery\u001b[22m\u001b[1m(\u001b[22m::typeof(Blink.ws_handler), ::Dict{Any,Any}\u001b[1m)\u001b[22m at \u001b[1m/Users/dan/.julia/packages/Mux/FeATY/src/basics.jl:34\u001b[22m\n",
      " [8] \u001b[1m#1\u001b[22m at \u001b[1m/Users/dan/.julia/packages/Mux/FeATY/src/Mux.jl:10\u001b[22m [inlined]\n",
      " [9] \u001b[1mwcatch\u001b[22m\u001b[1m(\u001b[22m::getfield(Mux, Symbol(\"##1#2\")){typeof(Mux.splitquery),typeof(Blink.ws_handler)}, ::Dict{Any,Any}\u001b[1m)\u001b[22m at \u001b[1m/Users/dan/.julia/packages/Mux/FeATY/src/websockets_integration.jl:12\u001b[22m\n",
      " [10] \u001b[1m#1\u001b[22m at \u001b[1m/Users/dan/.julia/packages/Mux/FeATY/src/Mux.jl:10\u001b[22m [inlined]\n",
      " [11] \u001b[1mtodict\u001b[22m at \u001b[1m/Users/dan/.julia/packages/Mux/FeATY/src/basics.jl:25\u001b[22m [inlined]\n",
      " [12] \u001b[1m#3\u001b[22m at \u001b[1m/Users/dan/.julia/packages/Mux/FeATY/src/Mux.jl:14\u001b[22m [inlined] (repeats 2 times)\n",
      " [13] \u001b[1m(::getfield(Mux, Symbol(\"##1#2\")){getfield(Mux, Symbol(\"##3#4\")){getfield(Mux, Symbol(\"##3#4\")){typeof(Mux.todict),typeof(Mux.wcatch)},typeof(Mux.splitquery)},typeof(Blink.ws_handler)})\u001b[22m\u001b[1m(\u001b[22m::Tuple{HTTP.Messages.Request,WebSockets.WebSocket{Sockets.TCPSocket}}\u001b[1m)\u001b[22m at \u001b[1m/Users/dan/.julia/packages/Mux/FeATY/src/Mux.jl:10\u001b[22m\n",
      " [14] \u001b[1m(::getfield(Mux, Symbol(\"##9#10\")){Mux.App})\u001b[22m\u001b[1m(\u001b[22m::HTTP.Messages.Request, ::WebSockets.WebSocket{Sockets.TCPSocket}\u001b[1m)\u001b[22m at \u001b[1m/Users/dan/.julia/packages/Mux/FeATY/src/server.jl:49\u001b[22m\n",
      " [15] \u001b[1mupgrade\u001b[22m\u001b[1m(\u001b[22m::getfield(Mux, Symbol(\"##9#10\")){Mux.App}, ::HTTP.Streams.Stream{HTTP.Messages.Request,HTTP.ConnectionPool.Transaction{Sockets.TCPSocket}}\u001b[1m)\u001b[22m at \u001b[1m/Users/dan/.julia/packages/WebSockets/pc4iW/src/HTTP.jl:201\u001b[22m\n",
      " [16] \u001b[1m(::getfield(WebSockets, Symbol(\"#_servercoroutine#11\")){WebSockets.ServerWS})\u001b[22m\u001b[1m(\u001b[22m::HTTP.Streams.Stream{HTTP.Messages.Request,HTTP.ConnectionPool.Transaction{Sockets.TCPSocket}}\u001b[1m)\u001b[22m at \u001b[1m/Users/dan/.julia/packages/WebSockets/pc4iW/src/HTTP.jl:370\u001b[22m\n",
      " [17] \u001b[1mmacro expansion\u001b[22m at \u001b[1m/Users/dan/.julia/packages/HTTP/wY7Vc/src/Servers.jl:360\u001b[22m [inlined]\n",
      " [18] \u001b[1m(::getfield(HTTP.Servers, Symbol(\"##13#14\")){getfield(WebSockets, Symbol(\"#_servercoroutine#11\")){WebSockets.ServerWS},HTTP.ConnectionPool.Transaction{Sockets.TCPSocket},HTTP.Streams.Stream{HTTP.Messages.Request,HTTP.ConnectionPool.Transaction{Sockets.TCPSocket}}})\u001b[22m\u001b[1m(\u001b[22m\u001b[1m)\u001b[22m at \u001b[1m./task.jl:259\u001b[22m\n"
     ]
    },
    {
     "name": "stdout",
     "output_type": "stream",
     "text": [
      "rnbqkbnr/pp2pppp/8/2p5/1Pr5/P7/5PPP/RN3BNR b KQkq - 0 11\n"
     ]
    }
   ],
   "source": [
    "game = start();"
   ]
  },
  {
   "cell_type": "code",
   "execution_count": null,
   "metadata": {},
   "outputs": [],
   "source": [
    "string(collect('a':'z')[1:8])"
   ]
  },
  {
   "cell_type": "code",
   "execution_count": null,
   "metadata": {},
   "outputs": [],
   "source": []
  },
  {
   "cell_type": "code",
   "execution_count": null,
   "metadata": {},
   "outputs": [],
   "source": [
    "algebraic_notation(1,5)"
   ]
  },
  {
   "cell_type": "code",
   "execution_count": null,
   "metadata": {},
   "outputs": [],
   "source": []
  }
 ],
 "metadata": {
  "@webio": {
   "lastCommId": null,
   "lastKernelId": null
  },
  "kernelspec": {
   "display_name": "Julia 1.1.1",
   "language": "julia",
   "name": "julia-1.1"
  },
  "language_info": {
   "file_extension": ".jl",
   "mimetype": "application/julia",
   "name": "julia",
   "version": "1.1.1"
  }
 },
 "nbformat": 4,
 "nbformat_minor": 2
}
